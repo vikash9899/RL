{
  "cells": [
    {
      "cell_type": "markdown",
      "metadata": {
        "id": "view-in-github",
        "colab_type": "text"
      },
      "source": [
        "<a href=\"https://colab.research.google.com/github/vikash9899/RL/blob/TESTING-BRANCH/actor_critic.ipynb\" target=\"_parent\"><img src=\"https://colab.research.google.com/assets/colab-badge.svg\" alt=\"Open In Colab\"/></a>"
      ]
    },
    {
      "cell_type": "markdown",
      "metadata": {
        "id": "kFgN7h_wiUJq"
      },
      "source": [
        "This tutorial demonstrates how to implement the [Actor-Critic](https://papers.nips.cc/paper/1786-actor-critic-algorithms.pdf) method using TensorFlow to train an agent on the [Open AI Gym](https://gym.openai.com/) CartPole-V0 environment.\n",
        "The reader is assumed to have some familiarity with [policy gradient methods](https://papers.nips.cc/paper/1713-policy-gradient-methods-for-reinforcement-learning-with-function-approximation.pdf) of reinforcement learning. \n"
      ]
    },
    {
      "cell_type": "markdown",
      "metadata": {
        "id": "_kA10ZKRR0hi"
      },
      "source": [
        "**Actor-Critic methods**\n",
        "\n",
        "Actor-Critic methods are [temporal difference (TD) learning](https://en.wikipedia.org/wiki/Temporal_difference_learning) methods that represent the policy function independent of the value function. \n",
        "\n",
        "A policy function (or policy) returns a probability distribution over actions that the agent can take based on the given state.\n",
        "A value function determines the expected return for an agent starting at a given state and acting according to a particular policy forever after.\n",
        "\n",
        "In the Actor-Critic method, the policy is referred to as the *actor* that proposes a set of possible actions given a state, and the estimated value function is referred to as the *critic*, which evaluates actions taken by the *actor* based on the given policy.\n",
        "\n",
        "In this tutorial, both the *Actor* and *Critic* will be represented using one neural network with two outputs.\n"
      ]
    },
    {
      "cell_type": "markdown",
      "metadata": {
        "id": "rBfiafKSRs2k"
      },
      "source": [
        "**CartPole-v0**\n",
        "\n",
        "In the [CartPole-v0 environment](https://www.gymlibrary.ml/environments/classic_control/cart_pole/), a pole is attached to a cart moving along a frictionless track. \n",
        "The pole starts upright and the goal of the agent is to prevent it from falling over by applying a force of -1 or +1 to the cart. \n",
        "A reward of +1 is given for every time step the pole remains upright.\n",
        "An episode ends when (1) the pole is more than 15 degrees from vertical or (2) the cart moves more than 2.4 units from the center.\n",
        "\n",
        "<center>\n",
        "  <figure>\n",
        "    <image src=\"https://tensorflow.org/tutorials/reinforcement_learning/images/cartpole-v0.gif\">\n",
        "    <figcaption>\n",
        "      Trained actor-critic model in Cartpole-v0 environment\n",
        "    </figcaption>\n",
        "  </figure>\n",
        "</center>\n"
      ]
    },
    {
      "cell_type": "markdown",
      "metadata": {
        "id": "XSNVK0AeRoJd"
      },
      "source": [
        "The problem is considered \"solved\" when the average total reward for the episode reaches 195 over 100 consecutive trials."
      ]
    },
    {
      "cell_type": "markdown",
      "metadata": {
        "id": "glLwIctHiUJq"
      },
      "source": [
        "## Setup\n",
        "\n",
        "Import necessary packages and configure global settings.\n"
      ]
    },
    {
      "cell_type": "code",
      "execution_count": null,
      "metadata": {
        "execution": {
          "iopub.execute_input": "2022-06-11T01:21:01.254449Z",
          "iopub.status.busy": "2022-06-11T01:21:01.254002Z",
          "iopub.status.idle": "2022-06-11T01:21:14.545954Z",
          "shell.execute_reply": "2022-06-11T01:21:14.545149Z"
        },
        "id": "13l6BbxKhCKp",
        "colab": {
          "base_uri": "https://localhost:8080/"
        },
        "outputId": "b3c311bb-f0cf-4f01-b157-58985387b259"
      },
      "outputs": [
        {
          "output_type": "stream",
          "name": "stdout",
          "text": [
            "Looking in indexes: https://pypi.org/simple, https://us-python.pkg.dev/colab-wheels/public/simple/\n",
            "Requirement already satisfied: gym[classic_control] in /usr/local/lib/python3.7/dist-packages (0.17.3)\n",
            "Requirement already satisfied: pyglet<=1.5.0,>=1.4.0 in /usr/local/lib/python3.7/dist-packages (from gym[classic_control]) (1.5.0)\n",
            "Requirement already satisfied: numpy>=1.10.4 in /usr/local/lib/python3.7/dist-packages (from gym[classic_control]) (1.21.6)\n",
            "Requirement already satisfied: cloudpickle<1.7.0,>=1.2.0 in /usr/local/lib/python3.7/dist-packages (from gym[classic_control]) (1.3.0)\n",
            "Requirement already satisfied: scipy in /usr/local/lib/python3.7/dist-packages (from gym[classic_control]) (1.4.1)\n",
            "Requirement already satisfied: future in /usr/local/lib/python3.7/dist-packages (from pyglet<=1.5.0,>=1.4.0->gym[classic_control]) (0.16.0)\n",
            "Looking in indexes: https://pypi.org/simple, https://us-python.pkg.dev/colab-wheels/public/simple/\n",
            "Requirement already satisfied: pyglet in /usr/local/lib/python3.7/dist-packages (1.5.0)\n",
            "Requirement already satisfied: future in /usr/local/lib/python3.7/dist-packages (from pyglet) (0.16.0)\n"
          ]
        }
      ],
      "source": [
        "# !pip install gym[classic_control]\n",
        "# !pip install pyglet"
      ]
    },
    {
      "cell_type": "code",
      "execution_count": null,
      "metadata": {
        "execution": {
          "iopub.execute_input": "2022-06-11T01:21:14.550018Z",
          "iopub.status.busy": "2022-06-11T01:21:14.549744Z",
          "iopub.status.idle": "2022-06-11T01:21:32.568221Z",
          "shell.execute_reply": "2022-06-11T01:21:32.567282Z"
        },
        "id": "WBeQhPi2S4m5"
      },
      "outputs": [],
      "source": [
        "%%bash \n",
        "# Install additional packages for visualization\n",
        "sudo apt-get install -y xvfb python-opengl > /dev/null 2>&1\n",
        "pip install pyvirtualdisplay > /dev/null 2>&1\n",
        "pip install git+https://github.com/tensorflow/docs > /dev/null 2>&1"
      ]
    },
    {
      "cell_type": "code",
      "execution_count": null,
      "metadata": {
        "execution": {
          "iopub.execute_input": "2022-06-11T01:21:32.572032Z",
          "iopub.status.busy": "2022-06-11T01:21:32.571753Z",
          "iopub.status.idle": "2022-06-11T01:21:35.171413Z",
          "shell.execute_reply": "2022-06-11T01:21:35.170656Z"
        },
        "id": "tT4N3qYviUJr"
      },
      "outputs": [],
      "source": [
        "import collections\n",
        "import gym\n",
        "import numpy as np\n",
        "import statistics\n",
        "import tensorflow as tf\n",
        "import tqdm\n",
        "\n",
        "from matplotlib import pyplot as plt\n",
        "from tensorflow.keras import layers\n",
        "from typing import Any, List, Sequence, Tuple\n",
        "\n",
        "\n",
        "# Create the environment\n",
        "env = gym.make(\"CartPole-v0\")\n",
        "\n",
        "# Set seed for experiment reproducibility\n",
        "seed = 42\n",
        "env.seed(seed)\n",
        "tf.random.set_seed(seed)\n",
        "np.random.seed(seed)\n",
        "\n",
        "# Small epsilon value for stabilizing division operations\n",
        "eps = np.finfo(np.float32).eps.item()"
      ]
    },
    {
      "cell_type": "markdown",
      "metadata": {
        "id": "AOUCe2D0iUJu"
      },
      "source": [
        "## Model\n",
        "\n",
        "The *Actor* and *Critic* will be modeled using one neural network that generates the action probabilities and critic value respectively. This tutorial uses model subclassing to define the model. \n",
        "\n",
        "During the forward pass, the model will take in the state as the input and will output both action probabilities and critic value $V$, which models the state-dependent [value function](https://spinningup.openai.com/en/latest/spinningup/rl_intro.html#value-functions). The goal is to train a model that chooses actions based on a policy $\\pi$ that maximizes expected [return](https://spinningup.openai.com/en/latest/spinningup/rl_intro.html#reward-and-return).\n",
        "\n",
        "For Cartpole-v0, there are four values representing the state: cart position, cart-velocity, pole angle and pole velocity respectively. The agent can take two actions to push the cart left (0) and right (1) respectively.\n",
        "\n",
        "Refer to [OpenAI Gym's CartPole-v0 wiki page](http://www.derongliu.org/adp/adp-cdrom/Barto1983.pdf) for more information.\n"
      ]
    },
    {
      "cell_type": "code",
      "execution_count": null,
      "metadata": {
        "execution": {
          "iopub.execute_input": "2022-06-11T01:21:35.175047Z",
          "iopub.status.busy": "2022-06-11T01:21:35.174540Z",
          "iopub.status.idle": "2022-06-11T01:21:35.180239Z",
          "shell.execute_reply": "2022-06-11T01:21:35.179692Z"
        },
        "id": "aXKbbMC-kmuv"
      },
      "outputs": [],
      "source": [
        "class ActorCritic(tf.keras.Model):\n",
        "  \"\"\"Combined actor-critic network.\"\"\"\n",
        "\n",
        "  def __init__(\n",
        "      self, \n",
        "      num_actions: int, \n",
        "      num_hidden_units: int):\n",
        "    \"\"\"Initialize.\"\"\"\n",
        "    super().__init__()\n",
        "\n",
        "    self.common = layers.Dense(num_hidden_units, activation=\"relu\")\n",
        "    self.actor = layers.Dense(num_actions)\n",
        "    self.critic = layers.Dense(1)\n",
        "\n",
        "  def call(self, inputs: tf.Tensor) -> Tuple[tf.Tensor, tf.Tensor]:\n",
        "    x = self.common(inputs)\n",
        "    return self.actor(x), self.critic(x)"
      ]
    },
    {
      "cell_type": "code",
      "execution_count": null,
      "metadata": {
        "execution": {
          "iopub.execute_input": "2022-06-11T01:21:35.183389Z",
          "iopub.status.busy": "2022-06-11T01:21:35.182785Z",
          "iopub.status.idle": "2022-06-11T01:21:38.123862Z",
          "shell.execute_reply": "2022-06-11T01:21:38.123159Z"
        },
        "id": "nWyxJgjLn68c"
      },
      "outputs": [],
      "source": [
        "num_actions = env.action_space.n  # 2\n",
        "num_hidden_units = 128\n",
        "\n",
        "model = ActorCritic(num_actions, num_hidden_units)"
      ]
    },
    {
      "cell_type": "markdown",
      "metadata": {
        "id": "hk92njFziUJw"
      },
      "source": [
        "## Training\n",
        "\n",
        "To train the agent, you will follow these steps:\n",
        "\n",
        "1. Run the agent on the environment to collect training data per episode.\n",
        "2. Compute expected return at each time step.\n",
        "3. Compute the loss for the combined actor-critic model.\n",
        "4. Compute gradients and update network parameters.\n",
        "5. Repeat 1-4 until either success criterion or max episodes has been reached.\n"
      ]
    },
    {
      "cell_type": "markdown",
      "metadata": {
        "id": "R2nde2XDs8Gh"
      },
      "source": [
        "### 1. Collecting training data\n",
        "\n",
        "As in supervised learning, in order to train the actor-critic model, you need\n",
        "to have training data. However, in order to collect such data, the model would\n",
        "need to be \"run\" in the environment.\n",
        "\n",
        "Training data is collected for each episode. Then at each time step, the model's forward pass will be run on the environment's state in order to generate action probabilities and the critic value based on the current policy parameterized by the model's weights.\n",
        "\n",
        "The next action will be sampled from the action probabilities generated by the model, which would then be applied to the environment, causing the next state and reward to be generated.\n",
        "\n",
        "This process is implemented in the `run_episode` function, which uses TensorFlow operations so that it can later be compiled into a TensorFlow graph for faster training. Note that `tf.TensorArray`s were used to support Tensor iteration on variable length arrays."
      ]
    },
    {
      "cell_type": "code",
      "execution_count": null,
      "metadata": {
        "execution": {
          "iopub.execute_input": "2022-06-11T01:21:38.127996Z",
          "iopub.status.busy": "2022-06-11T01:21:38.127540Z",
          "iopub.status.idle": "2022-06-11T01:21:38.132379Z",
          "shell.execute_reply": "2022-06-11T01:21:38.131736Z"
        },
        "id": "5URrbGlDSAGx"
      },
      "outputs": [],
      "source": [
        "# Wrap OpenAI Gym's `env.step` call as an operation in a TensorFlow function.\n",
        "# This would allow it to be included in a callable TensorFlow graph.\n",
        "\n",
        "def env_step(action: np.ndarray) -> Tuple[np.ndarray, np.ndarray, np.ndarray]:\n",
        "  \"\"\"Returns state, reward and done flag given an action.\"\"\"\n",
        "\n",
        "  state, reward, done, _ = env.step(action)\n",
        "  return (state.astype(np.float32), \n",
        "          np.array(reward, np.int32), \n",
        "          np.array(done, np.int32))\n",
        "\n",
        "\n",
        "def tf_env_step(action: tf.Tensor) -> List[tf.Tensor]:\n",
        "  return tf.numpy_function(env_step, [action], \n",
        "                           [tf.float32, tf.int32, tf.int32])"
      ]
    },
    {
      "cell_type": "code",
      "execution_count": null,
      "metadata": {
        "execution": {
          "iopub.execute_input": "2022-06-11T01:21:38.135329Z",
          "iopub.status.busy": "2022-06-11T01:21:38.134848Z",
          "iopub.status.idle": "2022-06-11T01:21:38.141469Z",
          "shell.execute_reply": "2022-06-11T01:21:38.140828Z"
        },
        "id": "a4qVRV063Cl9"
      },
      "outputs": [],
      "source": [
        "def run_episode(\n",
        "    initial_state: tf.Tensor,  \n",
        "    model: tf.keras.Model, \n",
        "    max_steps: int) -> Tuple[tf.Tensor, tf.Tensor, tf.Tensor]:\n",
        "  \"\"\"Runs a single episode to collect training data.\"\"\"\n",
        "\n",
        "  action_probs = tf.TensorArray(dtype=tf.float32, size=0, dynamic_size=True)\n",
        "  values = tf.TensorArray(dtype=tf.float32, size=0, dynamic_size=True)\n",
        "  rewards = tf.TensorArray(dtype=tf.int32, size=0, dynamic_size=True)\n",
        "\n",
        "  initial_state_shape = initial_state.shape\n",
        "  state = initial_state\n",
        "\n",
        "  for t in tf.range(max_steps):\n",
        "    # Convert state into a batched tensor (batch size = 1)\n",
        "    state = tf.expand_dims(state, 0)\n",
        "  \n",
        "    # Run the model and to get action probabilities and critic value\n",
        "    action_logits_t, value = model(state)\n",
        "  \n",
        "    # Sample next action from the action probability distribution\n",
        "    action = tf.random.categorical(action_logits_t, 1)[0, 0]\n",
        "    action_probs_t = tf.nn.softmax(action_logits_t)\n",
        "\n",
        "    # Store critic values\n",
        "    values = values.write(t, tf.squeeze(value))\n",
        "\n",
        "    # Store log probability of the action chosen\n",
        "    action_probs = action_probs.write(t, action_probs_t[0, action])\n",
        "  \n",
        "    # Apply action to the environment to get next state and reward\n",
        "    state, reward, done = tf_env_step(action)\n",
        "    state.set_shape(initial_state_shape)\n",
        "  \n",
        "    # Store reward\n",
        "    rewards = rewards.write(t, reward)\n",
        "\n",
        "    if tf.cast(done, tf.bool):\n",
        "      break\n",
        "\n",
        "  action_probs = action_probs.stack()\n",
        "  values = values.stack()\n",
        "  rewards = rewards.stack()\n",
        "  \n",
        "  return action_probs, values, rewards"
      ]
    },
    {
      "cell_type": "markdown",
      "metadata": {
        "id": "lBnIHdz22dIx"
      },
      "source": [
        "### 2. Computing expected returns\n",
        "\n",
        "The sequence of rewards for each timestep $t$, $\\{r_{t}\\}^{T}_{t=1}$ collected during one episode is converted into a sequence of expected returns $\\{G_{t}\\}^{T}_{t=1}$ in which the sum of rewards is taken from the current timestep $t$ to $T$ and each reward is multiplied with an exponentially decaying discount factor $\\gamma$:\n",
        "\n",
        "$$G_{t} = \\sum^{T}_{t'=t} \\gamma^{t'-t}r_{t'}$$\n",
        "\n",
        "Since $\\gamma\\in(0,1)$, rewards further out from the current timestep are given less weight.\n",
        "\n",
        "Intuitively, expected return simply implies that rewards now are better than rewards later. In a mathematical sense, it is to ensure that the sum of the rewards converges.\n",
        "\n",
        "To stabilize training, the resulting sequence of returns is also standardized (i.e. to have zero mean and unit standard deviation).\n"
      ]
    },
    {
      "cell_type": "code",
      "execution_count": null,
      "metadata": {
        "execution": {
          "iopub.execute_input": "2022-06-11T01:21:38.144427Z",
          "iopub.status.busy": "2022-06-11T01:21:38.143906Z",
          "iopub.status.idle": "2022-06-11T01:21:38.148898Z",
          "shell.execute_reply": "2022-06-11T01:21:38.148366Z"
        },
        "id": "jpEwFyl315dl"
      },
      "outputs": [],
      "source": [
        "def get_expected_return(\n",
        "    rewards: tf.Tensor, \n",
        "    gamma: float, \n",
        "    standardize: bool = True) -> tf.Tensor:\n",
        "  \"\"\"Compute expected returns per timestep.\"\"\"\n",
        "\n",
        "  n = tf.shape(rewards)[0]\n",
        "  returns = tf.TensorArray(dtype=tf.float32, size=n)\n",
        "\n",
        "  # Start from the end of `rewards` and accumulate reward sums\n",
        "  # into the `returns` array\n",
        "  rewards = tf.cast(rewards[::-1], dtype=tf.float32)\n",
        "  discounted_sum = tf.constant(0.0)\n",
        "  discounted_sum_shape = discounted_sum.shape\n",
        "  for i in tf.range(n):\n",
        "    reward = rewards[i]\n",
        "    discounted_sum = reward + gamma * discounted_sum\n",
        "    discounted_sum.set_shape(discounted_sum_shape)\n",
        "    returns = returns.write(i, discounted_sum)\n",
        "  returns = returns.stack()[::-1]\n",
        "\n",
        "  if standardize:\n",
        "    returns = ((returns - tf.math.reduce_mean(returns)) / \n",
        "               (tf.math.reduce_std(returns) + eps))\n",
        "\n",
        "  return returns"
      ]
    },
    {
      "cell_type": "markdown",
      "metadata": {
        "id": "1hrPLrgGxlvb"
      },
      "source": [
        "### 3. The actor-critic loss\n",
        "\n",
        "Since a hybrid actor-critic model is used, the chosen loss function is a combination of actor and critic losses for training, as shown below:\n",
        "\n",
        "$$L = L_{actor} + L_{critic}$$\n",
        "\n",
        "#### Actor loss\n",
        "\n",
        "The actor loss is based on [policy gradients with the critic as a state dependent baseline](https://www.youtube.com/watch?v=EKqxumCuAAY&t=62m23s) and computed with single-sample (per-episode) estimates.\n",
        "\n",
        "$$L_{actor} = -\\sum^{T}_{t=1} \\log\\pi_{\\theta}(a_{t} | s_{t})[G(s_{t}, a_{t})  - V^{\\pi}_{\\theta}(s_{t})]$$\n",
        "\n",
        "where:\n",
        "- $T$: the number of timesteps per episode, which can vary per episode\n",
        "- $s_{t}$: the state at timestep $t$\n",
        "- $a_{t}$: chosen action at timestep $t$ given state $s$\n",
        "- $\\pi_{\\theta}$: is the policy (actor) parameterized by $\\theta$\n",
        "- $V^{\\pi}_{\\theta}$: is the value function (critic) also parameterized by $\\theta$\n",
        "- $G = G_{t}$: the expected return for a given state, action pair at timestep $t$\n",
        "\n",
        "A negative term is added to the sum since the idea is to maximize the probabilities of actions yielding higher rewards by minimizing the combined loss.\n",
        "\n",
        "<br>\n",
        "\n",
        "##### Advantage\n",
        "\n",
        "The $G - V$ term in our $L_{actor}$ formulation is called the [advantage](https://spinningup.openai.com/en/latest/spinningup/rl_intro.html#advantage-functions), which indicates how much better an action is given a particular state over a random action selected according to the policy $\\pi$ for that state.\n",
        "\n",
        "While it's possible to exclude a baseline, this may result in high variance during training. And the nice thing about choosing the critic $V$ as a baseline is that it trained to be as close as possible to $G$, leading to a lower variance.\n",
        "\n",
        "In addition, without the critic, the algorithm would try to increase probabilities for actions taken on a particular state based on expected return, which may not make much of a difference if the relative probabilities between actions remain the same.\n",
        "\n",
        "For instance, suppose that two actions for a given state would yield the same expected return. Without the critic, the algorithm would try to raise the probability of these actions based on the objective $J$. With the critic, it may turn out that there's no advantage ($G - V = 0$) and thus no benefit gained in increasing the actions' probabilities and the algorithm would set the gradients to zero.\n",
        "\n",
        "<br>\n",
        "\n",
        "#### Critic loss\n",
        "\n",
        "Training $V$ to be as close possible to $G$ can be set up as a regression problem with the following loss function:\n",
        "\n",
        "$$L_{critic} = L_{\\delta}(G, V^{\\pi}_{\\theta})$$\n",
        "\n",
        "where $L_{\\delta}$ is the [Huber loss](https://en.wikipedia.org/wiki/Huber_loss), which is less sensitive to outliers in data than squared-error loss.\n"
      ]
    },
    {
      "cell_type": "code",
      "execution_count": null,
      "metadata": {
        "execution": {
          "iopub.execute_input": "2022-06-11T01:21:38.151699Z",
          "iopub.status.busy": "2022-06-11T01:21:38.151268Z",
          "iopub.status.idle": "2022-06-11T01:21:38.155325Z",
          "shell.execute_reply": "2022-06-11T01:21:38.154807Z"
        },
        "id": "9EXwbEez6n9m"
      },
      "outputs": [],
      "source": [
        "huber_loss = tf.keras.losses.Huber(reduction=tf.keras.losses.Reduction.SUM)\n",
        "\n",
        "def compute_loss(\n",
        "    action_probs: tf.Tensor,  \n",
        "    values: tf.Tensor,  \n",
        "    returns: tf.Tensor) -> tf.Tensor:\n",
        "  \"\"\"Computes the combined actor-critic loss.\"\"\"\n",
        "\n",
        "  advantage = returns - values\n",
        "\n",
        "  action_log_probs = tf.math.log(action_probs)\n",
        "  actor_loss = -tf.math.reduce_sum(action_log_probs * advantage)\n",
        "\n",
        "  critic_loss = huber_loss(values, returns)\n",
        "\n",
        "  return actor_loss + critic_loss"
      ]
    },
    {
      "cell_type": "markdown",
      "metadata": {
        "id": "HSYkQOmRfV75"
      },
      "source": [
        "### 4. Defining the training step to update parameters\n",
        "\n",
        "All of the steps above are combined into a training step that is run every episode. All steps leading up to the loss function are executed with the `tf.GradientTape` context to enable automatic differentiation.\n",
        "\n",
        "This tutorial uses the Adam optimizer to apply the gradients to the model parameters.\n",
        "\n",
        "The sum of the undiscounted rewards, `episode_reward`, is also computed in this step. This value will be used later on to evaluate if the success criterion is met.\n",
        "\n",
        "The `tf.function` context is applied to the `train_step` function so that it can be compiled into a callable TensorFlow graph, which can lead to 10x speedup in training.\n"
      ]
    },
    {
      "cell_type": "code",
      "execution_count": null,
      "metadata": {
        "execution": {
          "iopub.execute_input": "2022-06-11T01:21:38.158118Z",
          "iopub.status.busy": "2022-06-11T01:21:38.157685Z",
          "iopub.status.idle": "2022-06-11T01:21:38.163276Z",
          "shell.execute_reply": "2022-06-11T01:21:38.162757Z"
        },
        "id": "QoccrkF3IFCg"
      },
      "outputs": [],
      "source": [
        "optimizer = tf.keras.optimizers.Adam(learning_rate=0.01)\n",
        "\n",
        "\n",
        "@tf.function\n",
        "def train_step(\n",
        "    initial_state: tf.Tensor, \n",
        "    model: tf.keras.Model, \n",
        "    optimizer: tf.keras.optimizers.Optimizer, \n",
        "    gamma: float, \n",
        "    max_steps_per_episode: int) -> tf.Tensor:\n",
        "  \"\"\"Runs a model training step.\"\"\"\n",
        "\n",
        "  with tf.GradientTape() as tape:\n",
        "\n",
        "    # Run the model for one episode to collect training data\n",
        "    action_probs, values, rewards = run_episode(\n",
        "        initial_state, model, max_steps_per_episode) \n",
        "\n",
        "    # Calculate expected returns\n",
        "    returns = get_expected_return(rewards, gamma)\n",
        "\n",
        "    # Convert training data to appropriate TF tensor shapes\n",
        "    action_probs, values, returns = [\n",
        "        tf.expand_dims(x, 1) for x in [action_probs, values, returns]] \n",
        "\n",
        "    # Calculating loss values to update our network\n",
        "    loss = compute_loss(action_probs, values, returns)\n",
        "\n",
        "  # Compute the gradients from the loss\n",
        "  grads = tape.gradient(loss, model.trainable_variables)\n",
        "\n",
        "  # Apply the gradients to the model's parameters\n",
        "  optimizer.apply_gradients(zip(grads, model.trainable_variables))\n",
        "\n",
        "  episode_reward = tf.math.reduce_sum(rewards)\n",
        "\n",
        "  return episode_reward"
      ]
    },
    {
      "cell_type": "markdown",
      "metadata": {
        "id": "HFvZiDoAflGK"
      },
      "source": [
        "### 5. Run the training loop\n",
        "\n",
        "Training is executed by running the training step until either the success criterion or maximum number of episodes is reached.  \n",
        "\n",
        "A running record of episode rewards is kept in a queue. Once 100 trials are reached, the oldest reward is removed at the left (tail) end of the queue and the newest one is added at the head (right). A running sum of the rewards is also maintained for computational efficiency. \n",
        "\n",
        "Depending on your runtime, training can finish in less than a minute."
      ]
    },
    {
      "cell_type": "code",
      "execution_count": null,
      "metadata": {
        "execution": {
          "iopub.execute_input": "2022-06-11T01:21:38.166075Z",
          "iopub.status.busy": "2022-06-11T01:21:38.165729Z",
          "iopub.status.idle": "2022-06-11T01:23:20.759266Z",
          "shell.execute_reply": "2022-06-11T01:23:20.758516Z"
        },
        "id": "kbmBxnzLiUJx",
        "colab": {
          "base_uri": "https://localhost:8080/"
        },
        "outputId": "9598dddd-2891-47c4-b3b0-428141ba17b1"
      },
      "outputs": [
        {
          "output_type": "stream",
          "name": "stderr",
          "text": [
            "Episode 425:   4%|▍         | 425/10000 [00:33<12:23, 12.88it/s, episode_reward=200, running_reward=196]"
          ]
        },
        {
          "output_type": "stream",
          "name": "stdout",
          "text": [
            "\n",
            "Solved at episode 425: average reward: 195.53!\n",
            "CPU times: user 40.6 s, sys: 1.81 s, total: 42.4 s\n",
            "Wall time: 33 s\n"
          ]
        },
        {
          "output_type": "stream",
          "name": "stderr",
          "text": [
            "\n"
          ]
        }
      ],
      "source": [
        "%%time\n",
        "\n",
        "min_episodes_criterion = 100\n",
        "max_episodes = 10000\n",
        "max_steps_per_episode = 1000\n",
        "\n",
        "# Cartpole-v0 is considered solved if average reward is >= 195 over 100 \n",
        "# consecutive trials\n",
        "reward_threshold = 195\n",
        "running_reward = 0\n",
        "\n",
        "# Discount factor for future rewards\n",
        "gamma = 0.99\n",
        "\n",
        "# Keep last episodes reward\n",
        "episodes_reward: collections.deque = collections.deque(maxlen=min_episodes_criterion)\n",
        "\n",
        "with tqdm.trange(max_episodes) as t:\n",
        "  for i in t:\n",
        "    initial_state = tf.constant(env.reset(), dtype=tf.float32)\n",
        "    episode_reward = int(train_step(\n",
        "        initial_state, model, optimizer, gamma, max_steps_per_episode))\n",
        "    \n",
        "    episodes_reward.append(episode_reward)\n",
        "    running_reward = statistics.mean(episodes_reward)\n",
        "  \n",
        "    t.set_description(f'Episode {i}')\n",
        "    t.set_postfix(\n",
        "        episode_reward=episode_reward, running_reward=running_reward)\n",
        "  \n",
        "    # Show average episode reward every 10 episodes\n",
        "    if i % 10 == 0:\n",
        "      pass # print(f'Episode {i}: average reward: {avg_reward}')\n",
        "  \n",
        "    if running_reward > reward_threshold and i >= min_episodes_criterion:  \n",
        "        break\n",
        "\n",
        "print(f'\\nSolved at episode {i}: average reward: {running_reward:.2f}!')"
      ]
    },
    {
      "cell_type": "markdown",
      "metadata": {
        "id": "ru8BEwS1EmAv"
      },
      "source": [
        "## Visualization\n",
        "\n",
        "After training, it would be good to visualize how the model performs in the environment. You can run the cells below to generate a GIF animation of one episode run of the model. Note that additional packages need to be installed for OpenAI Gym to render the environment's images correctly in Colab."
      ]
    },
    {
      "cell_type": "code",
      "execution_count": null,
      "metadata": {
        "execution": {
          "iopub.execute_input": "2022-06-11T01:23:20.763464Z",
          "iopub.status.busy": "2022-06-11T01:23:20.762978Z",
          "iopub.status.idle": "2022-06-11T01:23:22.199645Z",
          "shell.execute_reply": "2022-06-11T01:23:22.198678Z"
        },
        "id": "qbIMMkfmRHyC"
      },
      "outputs": [],
      "source": [
        "# Render an episode and save as a GIF file\n",
        "\n",
        "from IPython import display as ipythondisplay\n",
        "from PIL import Image\n",
        "from pyvirtualdisplay import Display\n",
        "\n",
        "\n",
        "display = Display(visible=0, size=(400, 300))\n",
        "display.start()\n",
        "\n",
        "\n",
        "def render_episode(env: gym.Env, model: tf.keras.Model, max_steps: int): \n",
        "  screen = env.render(mode='rgb_array')\n",
        "  im = Image.fromarray(screen)\n",
        "\n",
        "  images = [im]\n",
        "  \n",
        "  state = tf.constant(env.reset(), dtype=tf.float32)\n",
        "  for i in range(1, max_steps + 1):\n",
        "    state = tf.expand_dims(state, 0)\n",
        "    action_probs, _ = model(state)\n",
        "    action = np.argmax(np.squeeze(action_probs))\n",
        "\n",
        "    state, _, done, _ = env.step(action)\n",
        "    state = tf.constant(state, dtype=tf.float32)\n",
        "\n",
        "    # Render screen every 10 steps\n",
        "    if i % 10 == 0:\n",
        "      screen = env.render(mode='rgb_array')\n",
        "      images.append(Image.fromarray(screen))\n",
        "  \n",
        "    if done:\n",
        "      break\n",
        "  \n",
        "  return images\n",
        "\n",
        "\n",
        "# Save GIF image\n",
        "images = render_episode(env, model, max_steps_per_episode)\n",
        "image_file = 'cartpole-v0.gif'\n",
        "# loop=0: loop forever, duration=1: play each frame for 1ms\n",
        "images[0].save(\n",
        "    image_file, save_all=True, append_images=images[1:], loop=0, duration=1)"
      ]
    },
    {
      "cell_type": "code",
      "execution_count": null,
      "metadata": {
        "execution": {
          "iopub.execute_input": "2022-06-11T01:23:22.203923Z",
          "iopub.status.busy": "2022-06-11T01:23:22.203334Z",
          "iopub.status.idle": "2022-06-11T01:23:22.262328Z",
          "shell.execute_reply": "2022-06-11T01:23:22.261728Z"
        },
        "id": "TLd720SejKmf",
        "colab": {
          "base_uri": "https://localhost:8080/",
          "height": 421
        },
        "outputId": "aa10dcb8-73cb-40e3-dd0e-719904cee8aa"
      },
      "outputs": [
        {
          "output_type": "execute_result",
          "data": {
            "text/plain": [
              "<IPython.core.display.HTML object>"
            ],
            "text/html": [
              "<img src=\"data:image/gif;base64,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\"/>"
            ]
          },
          "metadata": {},
          "execution_count": 14
        }
      ],
      "source": [
        "import tensorflow_docs.vis.embed as embed\n",
        "embed.embed_file(image_file)"
      ]
    },
    {
      "cell_type": "markdown",
      "metadata": {
        "id": "lnq9Hzo1Po6X"
      },
      "source": [
        "## Next steps\n",
        "\n",
        "This tutorial demonstrated how to implement the actor-critic method using Tensorflow.\n",
        "\n",
        "As a next step, you could try training a model on a different environment in OpenAI Gym. \n",
        "\n",
        "For additional information regarding actor-critic methods and the Cartpole-v0 problem, you may refer to the following resources:\n",
        "\n",
        "- [Actor Critic Method](https://hal.inria.fr/hal-00840470/document)\n",
        "- [Actor Critic Lecture (CAL)](https://www.youtube.com/watch?v=EKqxumCuAAY&list=PLkFD6_40KJIwhWJpGazJ9VSj9CFMkb79A&index=7&t=0s)\n",
        "- [Cartpole learning control problem \\[Barto, et al. 1983\\]](http://www.derongliu.org/adp/adp-cdrom/Barto1983.pdf) \n",
        "\n",
        "For more reinforcement learning examples in TensorFlow, you can check the following resources:\n",
        "- [Reinforcement learning code examples (keras.io)](https://keras.io/examples/rl/)\n",
        "- [TF-Agents reinforcement learning library](https://www.tensorflow.org/agents)\n"
      ]
    },
    {
      "cell_type": "code",
      "source": [
        ""
      ],
      "metadata": {
        "id": "eULPw7zESKj3"
      },
      "execution_count": null,
      "outputs": []
    },
    {
      "cell_type": "code",
      "source": [
        ""
      ],
      "metadata": {
        "id": "xXNHN0SkSMBs"
      },
      "execution_count": null,
      "outputs": []
    },
    {
      "cell_type": "code",
      "source": [
        ""
      ],
      "metadata": {
        "id": "jGxct7NFSL-R"
      },
      "execution_count": null,
      "outputs": []
    }
  ],
  "metadata": {
    "colab": {
      "collapsed_sections": [
        "_jQ1tEQCxwRx"
      ],
      "name": "actor_critic.ipynb",
      "toc_visible": true,
      "provenance": [],
      "include_colab_link": true
    },
    "kernelspec": {
      "display_name": "Python 3",
      "name": "python3"
    },
    "language_info": {
      "codemirror_mode": {
        "name": "ipython",
        "version": 3
      },
      "file_extension": ".py",
      "mimetype": "text/x-python",
      "name": "python",
      "nbconvert_exporter": "python",
      "pygments_lexer": "ipython3",
      "version": "3.9.13"
    }
  },
  "nbformat": 4,
  "nbformat_minor": 0
}